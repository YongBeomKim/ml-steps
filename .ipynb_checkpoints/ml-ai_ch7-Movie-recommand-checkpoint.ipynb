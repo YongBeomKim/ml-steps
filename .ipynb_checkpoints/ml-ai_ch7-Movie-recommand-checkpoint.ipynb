{
 "cells": [
  {
   "cell_type": "markdown",
   "metadata": {},
   "source": [
    "# **7장 프로젝트 1: 영화 추천 시스템**\n",
    "- **머신러닝 실무 프로젝트** (한빛출판사) 7장 영화추천 시스템 만들기\n",
    "- 유형 : **개요추천, 사용자 평가, 알림서비스, 연관아이템 추천, 개인화**\n",
    "- 추천 알고리즘 시스템 만들기\n",
    "<div><img src=\"./data/collab.png\" width=500/></div>"
   ]
  },
  {
   "cell_type": "markdown",
   "metadata": {},
   "source": [
    "## **1 추천 알고리즘**\n",
    "**협업 필터링은 cold start** 단점을, **내용기반 필터링은 한글에 분석기법이** 필요 합니다\n",
    "- **내용기반 필터링** : 개별 영화정보를 구조화 하여 추천하는 알고리즘\n",
    "- **모델 기반 협업 필터링** (회귀/ 분류와 같은 예측모델을 바탕으로 추천)\n",
    "- **메모리 기반 협업 필터링** (저장된 데이터를 바탕으로 추천)\n",
    "    - 사용자 기반 협업 필터링\n",
    "    - 아이템 기반 협업 필터링"
   ]
  },
  {
   "cell_type": "markdown",
   "metadata": {},
   "source": [
    "### **01 사용자 기반 협업 필터링**\n",
    "유사도 측정값은 두 대상이 **비슷할수록 값이 커지고, 다를수록 작아진다**\n",
    "- **피어슨 상관계수 : -1~1** 사이의 값을 출력\n",
    "- **코싸인 유사도 : 0~1** 사이의 값을 출력\n",
    "- **자카드 계수 : 0~1** 사이의 값을 갖는다"
   ]
  },
  {
   "cell_type": "code",
   "execution_count": 1,
   "metadata": {},
   "outputs": [],
   "source": [
    "from scipy.spatial.distance import correlation # 피어슨 상관계수\n",
    "from scipy.spatial.distance import cosine      # 코싸인 유사도 \n",
    "from scipy.spatial.distance import jaccard     # 자카드 계수"
   ]
  },
  {
   "cell_type": "markdown",
   "metadata": {},
   "source": [
    "### **02 아이템 기반 협업 필터링**\n",
    "위와 동일한 **피어슨, 코싸인** 유사도를 활용한다\n",
    "- 평점 데이터를 **영화별 평균(코싸인유사도), 사용자별 평균(개선된 코싸인 유사도)** 을 분모로 사용한다\n",
    "- **평점 평균을 뺀** 데이터를 사용하면 **데이터 표준화로** 모델성능이 개선됩니다"
   ]
  },
  {
   "cell_type": "markdown",
   "metadata": {},
   "source": [
    "### **03 모델 기반 협업 필터링**\n",
    "**Topic Model** 로써 평점행렬의 차원을 축소하여 **잠재적 의미가 드러나는 모델** 을 구축합니다\n",
    "- **확률적 잠재의미 분석 (PLSA)**\n",
    "- **잠재 디리클레 할당 (LDA)**\n",
    "- **묵시적 행렬분해 (Matrix Decomposition)** : 밀집된 **사용자 행렬 U** 와 **아이템 행렬 I** 의 곱으로 예측"
   ]
  },
  {
   "cell_type": "markdown",
   "metadata": {},
   "source": [
    "### **04 내용 기반 협업 필터링**\n",
    "영화제목, 감독, 장르, 배우, 평판등의 정보를 활용하여 추천항목을 선별하여 모델을 구성합니다"
   ]
  },
  {
   "cell_type": "markdown",
   "metadata": {},
   "source": [
    "### **05 평가 척도**\n",
    "추천모델을 만든 뒤 모델간 평가를 진행합니다\n",
    "- 정확도, 정밀도, 재현율\n",
    "- **평균제곱오차(MAE)** : 회귀모델의 척도\n",
    "- **평균제곱근오차(RMSE)** : MAE가 너무커서 root 값으로, MAE와 비교시 outlier에 취약\n",
    "- 순위 상관값"
   ]
  },
  {
   "cell_type": "markdown",
   "metadata": {},
   "source": [
    "## **3 영화리뷰 데이터 살펴보기**\n",
    "영화리뷰 데이터를 살펴보며 경향을 탐색 합니다"
   ]
  },
  {
   "cell_type": "code",
   "execution_count": 2,
   "metadata": {},
   "outputs": [
    {
     "data": {
      "text/html": [
       "<div>\n",
       "<style scoped>\n",
       "    .dataframe tbody tr th:only-of-type {\n",
       "        vertical-align: middle;\n",
       "    }\n",
       "\n",
       "    .dataframe tbody tr th {\n",
       "        vertical-align: top;\n",
       "    }\n",
       "\n",
       "    .dataframe thead th {\n",
       "        text-align: right;\n",
       "    }\n",
       "</style>\n",
       "<table border=\"1\" class=\"dataframe\">\n",
       "  <thead>\n",
       "    <tr style=\"text-align: right;\">\n",
       "      <th></th>\n",
       "      <th>user_id</th>\n",
       "      <th>age</th>\n",
       "      <th>sex</th>\n",
       "      <th>occupation</th>\n",
       "      <th>zip_code</th>\n",
       "    </tr>\n",
       "  </thead>\n",
       "  <tbody>\n",
       "    <tr>\n",
       "      <th>0</th>\n",
       "      <td>1</td>\n",
       "      <td>24</td>\n",
       "      <td>M</td>\n",
       "      <td>technician</td>\n",
       "      <td>85711</td>\n",
       "    </tr>\n",
       "    <tr>\n",
       "      <th>1</th>\n",
       "      <td>2</td>\n",
       "      <td>53</td>\n",
       "      <td>F</td>\n",
       "      <td>other</td>\n",
       "      <td>94043</td>\n",
       "    </tr>\n",
       "    <tr>\n",
       "      <th>2</th>\n",
       "      <td>3</td>\n",
       "      <td>23</td>\n",
       "      <td>M</td>\n",
       "      <td>writer</td>\n",
       "      <td>32067</td>\n",
       "    </tr>\n",
       "  </tbody>\n",
       "</table>\n",
       "</div>"
      ],
      "text/plain": [
       "   user_id  age sex  occupation zip_code\n",
       "0        1   24   M  technician    85711\n",
       "1        2   53   F       other    94043\n",
       "2        3   23   M      writer    32067"
      ]
     },
     "execution_count": 2,
     "metadata": {},
     "output_type": "execute_result"
    }
   ],
   "source": [
    "# 사용자 정보\n",
    "import pandas as pd\n",
    "u_cols = ['user_id', 'age', 'sex', 'occupation', 'zip_code']\n",
    "users  = pd.read_csv('data/ml-100k/u.user', sep='|', names=u_cols)\n",
    "users.head(3)"
   ]
  },
  {
   "cell_type": "code",
   "execution_count": 3,
   "metadata": {},
   "outputs": [
    {
     "data": {
      "text/html": [
       "<div>\n",
       "<style scoped>\n",
       "    .dataframe tbody tr th:only-of-type {\n",
       "        vertical-align: middle;\n",
       "    }\n",
       "\n",
       "    .dataframe tbody tr th {\n",
       "        vertical-align: top;\n",
       "    }\n",
       "\n",
       "    .dataframe thead th {\n",
       "        text-align: right;\n",
       "    }\n",
       "</style>\n",
       "<table border=\"1\" class=\"dataframe\">\n",
       "  <thead>\n",
       "    <tr style=\"text-align: right;\">\n",
       "      <th></th>\n",
       "      <th>user_id</th>\n",
       "      <th>movie_id</th>\n",
       "      <th>rating</th>\n",
       "      <th>unix_timestamp</th>\n",
       "      <th>date</th>\n",
       "    </tr>\n",
       "  </thead>\n",
       "  <tbody>\n",
       "    <tr>\n",
       "      <th>0</th>\n",
       "      <td>196</td>\n",
       "      <td>242</td>\n",
       "      <td>3</td>\n",
       "      <td>881250949</td>\n",
       "      <td>1997-12-04 15:55:49</td>\n",
       "    </tr>\n",
       "    <tr>\n",
       "      <th>1</th>\n",
       "      <td>186</td>\n",
       "      <td>302</td>\n",
       "      <td>3</td>\n",
       "      <td>891717742</td>\n",
       "      <td>1998-04-04 19:22:22</td>\n",
       "    </tr>\n",
       "    <tr>\n",
       "      <th>2</th>\n",
       "      <td>22</td>\n",
       "      <td>377</td>\n",
       "      <td>1</td>\n",
       "      <td>878887116</td>\n",
       "      <td>1997-11-07 07:18:36</td>\n",
       "    </tr>\n",
       "  </tbody>\n",
       "</table>\n",
       "</div>"
      ],
      "text/plain": [
       "   user_id  movie_id  rating  unix_timestamp                date\n",
       "0      196       242       3       881250949 1997-12-04 15:55:49\n",
       "1      186       302       3       891717742 1998-04-04 19:22:22\n",
       "2       22       377       1       878887116 1997-11-07 07:18:36"
      ]
     },
     "execution_count": 3,
     "metadata": {},
     "output_type": "execute_result"
    }
   ],
   "source": [
    "# 영화 평점 정보\n",
    "r_cols          = ['user_id', 'movie_id', 'rating', 'unix_timestamp']\n",
    "ratings         = pd.read_csv('data/ml-100k/u.data', sep='\\t', names=r_cols)\n",
    "ratings['date'] = pd.to_datetime(ratings['unix_timestamp'], unit='s')\n",
    "ratings.head(3)"
   ]
  },
  {
   "cell_type": "code",
   "execution_count": 4,
   "metadata": {
    "scrolled": true
   },
   "outputs": [
    {
     "data": {
      "text/html": [
       "<div>\n",
       "<style scoped>\n",
       "    .dataframe tbody tr th:only-of-type {\n",
       "        vertical-align: middle;\n",
       "    }\n",
       "\n",
       "    .dataframe tbody tr th {\n",
       "        vertical-align: top;\n",
       "    }\n",
       "\n",
       "    .dataframe thead th {\n",
       "        text-align: right;\n",
       "    }\n",
       "</style>\n",
       "<table border=\"1\" class=\"dataframe\">\n",
       "  <thead>\n",
       "    <tr style=\"text-align: right;\">\n",
       "      <th></th>\n",
       "      <th>movie_id</th>\n",
       "      <th>title</th>\n",
       "      <th>release_date</th>\n",
       "      <th>video_release_date</th>\n",
       "      <th>imdb_url</th>\n",
       "    </tr>\n",
       "  </thead>\n",
       "  <tbody>\n",
       "    <tr>\n",
       "      <th>0</th>\n",
       "      <td>1</td>\n",
       "      <td>Toy Story (1995)</td>\n",
       "      <td>01-Jan-1995</td>\n",
       "      <td>NaN</td>\n",
       "      <td>http://us.imdb.com/M/title-exact?Toy%20Story%2...</td>\n",
       "    </tr>\n",
       "    <tr>\n",
       "      <th>1</th>\n",
       "      <td>2</td>\n",
       "      <td>GoldenEye (1995)</td>\n",
       "      <td>01-Jan-1995</td>\n",
       "      <td>NaN</td>\n",
       "      <td>http://us.imdb.com/M/title-exact?GoldenEye%20(...</td>\n",
       "    </tr>\n",
       "    <tr>\n",
       "      <th>2</th>\n",
       "      <td>3</td>\n",
       "      <td>Four Rooms (1995)</td>\n",
       "      <td>01-Jan-1995</td>\n",
       "      <td>NaN</td>\n",
       "      <td>http://us.imdb.com/M/title-exact?Four%20Rooms%...</td>\n",
       "    </tr>\n",
       "  </tbody>\n",
       "</table>\n",
       "</div>"
      ],
      "text/plain": [
       "   movie_id              title release_date  video_release_date  \\\n",
       "0         1   Toy Story (1995)  01-Jan-1995                 NaN   \n",
       "1         2   GoldenEye (1995)  01-Jan-1995                 NaN   \n",
       "2         3  Four Rooms (1995)  01-Jan-1995                 NaN   \n",
       "\n",
       "                                            imdb_url  \n",
       "0  http://us.imdb.com/M/title-exact?Toy%20Story%2...  \n",
       "1  http://us.imdb.com/M/title-exact?GoldenEye%20(...  \n",
       "2  http://us.imdb.com/M/title-exact?Four%20Rooms%...  "
      ]
     },
     "execution_count": 4,
     "metadata": {},
     "output_type": "execute_result"
    }
   ],
   "source": [
    "# 영화 정보\n",
    "m_cols = ['movie_id', 'title', 'release_date', 'video_release_date', 'imdb_url']\n",
    "movies = pd.read_csv('data/ml-100k/u.item', sep='|', names=m_cols, usecols=range(5), encoding=\"latin1\")\n",
    "movies.head(3)"
   ]
  },
  {
   "cell_type": "code",
   "execution_count": 5,
   "metadata": {},
   "outputs": [
    {
     "data": {
      "text/html": [
       "<div>\n",
       "<style scoped>\n",
       "    .dataframe tbody tr th:only-of-type {\n",
       "        vertical-align: middle;\n",
       "    }\n",
       "\n",
       "    .dataframe tbody tr th {\n",
       "        vertical-align: top;\n",
       "    }\n",
       "\n",
       "    .dataframe thead th {\n",
       "        text-align: right;\n",
       "    }\n",
       "</style>\n",
       "<table border=\"1\" class=\"dataframe\">\n",
       "  <thead>\n",
       "    <tr style=\"text-align: right;\">\n",
       "      <th></th>\n",
       "      <th>movie_id</th>\n",
       "      <th>title</th>\n",
       "      <th>release_date</th>\n",
       "      <th>video_release_date</th>\n",
       "      <th>imdb_url</th>\n",
       "      <th>user_id</th>\n",
       "      <th>rating</th>\n",
       "      <th>unix_timestamp</th>\n",
       "      <th>date</th>\n",
       "      <th>age</th>\n",
       "      <th>sex</th>\n",
       "      <th>occupation</th>\n",
       "      <th>zip_code</th>\n",
       "    </tr>\n",
       "  </thead>\n",
       "  <tbody>\n",
       "    <tr>\n",
       "      <th>0</th>\n",
       "      <td>1</td>\n",
       "      <td>Toy Story (1995)</td>\n",
       "      <td>01-Jan-1995</td>\n",
       "      <td>NaN</td>\n",
       "      <td>http://us.imdb.com/M/title-exact?Toy%20Story%2...</td>\n",
       "      <td>308</td>\n",
       "      <td>4</td>\n",
       "      <td>887736532</td>\n",
       "      <td>1998-02-17 17:28:52</td>\n",
       "      <td>60</td>\n",
       "      <td>M</td>\n",
       "      <td>retired</td>\n",
       "      <td>95076</td>\n",
       "    </tr>\n",
       "    <tr>\n",
       "      <th>1</th>\n",
       "      <td>4</td>\n",
       "      <td>Get Shorty (1995)</td>\n",
       "      <td>01-Jan-1995</td>\n",
       "      <td>NaN</td>\n",
       "      <td>http://us.imdb.com/M/title-exact?Get%20Shorty%...</td>\n",
       "      <td>308</td>\n",
       "      <td>5</td>\n",
       "      <td>887737890</td>\n",
       "      <td>1998-02-17 17:51:30</td>\n",
       "      <td>60</td>\n",
       "      <td>M</td>\n",
       "      <td>retired</td>\n",
       "      <td>95076</td>\n",
       "    </tr>\n",
       "    <tr>\n",
       "      <th>2</th>\n",
       "      <td>5</td>\n",
       "      <td>Copycat (1995)</td>\n",
       "      <td>01-Jan-1995</td>\n",
       "      <td>NaN</td>\n",
       "      <td>http://us.imdb.com/M/title-exact?Copycat%20(1995)</td>\n",
       "      <td>308</td>\n",
       "      <td>4</td>\n",
       "      <td>887739608</td>\n",
       "      <td>1998-02-17 18:20:08</td>\n",
       "      <td>60</td>\n",
       "      <td>M</td>\n",
       "      <td>retired</td>\n",
       "      <td>95076</td>\n",
       "    </tr>\n",
       "  </tbody>\n",
       "</table>\n",
       "</div>"
      ],
      "text/plain": [
       "   movie_id              title release_date  video_release_date  \\\n",
       "0         1   Toy Story (1995)  01-Jan-1995                 NaN   \n",
       "1         4  Get Shorty (1995)  01-Jan-1995                 NaN   \n",
       "2         5     Copycat (1995)  01-Jan-1995                 NaN   \n",
       "\n",
       "                                            imdb_url  user_id  rating  \\\n",
       "0  http://us.imdb.com/M/title-exact?Toy%20Story%2...      308       4   \n",
       "1  http://us.imdb.com/M/title-exact?Get%20Shorty%...      308       5   \n",
       "2  http://us.imdb.com/M/title-exact?Copycat%20(1995)      308       4   \n",
       "\n",
       "   unix_timestamp                date  age sex occupation zip_code  \n",
       "0       887736532 1998-02-17 17:28:52   60   M    retired    95076  \n",
       "1       887737890 1998-02-17 17:51:30   60   M    retired    95076  \n",
       "2       887739608 1998-02-17 18:20:08   60   M    retired    95076  "
      ]
     },
     "execution_count": 5,
     "metadata": {},
     "output_type": "execute_result"
    }
   ],
   "source": [
    "# 사용자-영화-평점 3 정보를 한 데이터프레임으로 합치기\n",
    "movie_rating = pd.merge(movies, ratings)\n",
    "lens         = pd.merge(movie_rating, users)\n",
    "lens.head(3)"
   ]
  },
  {
   "cell_type": "code",
   "execution_count": 6,
   "metadata": {},
   "outputs": [
    {
     "data": {
      "text/plain": [
       "Star Wars (1977)             583\n",
       "Contact (1997)               509\n",
       "Fargo (1996)                 508\n",
       "Return of the Jedi (1983)    507\n",
       "Liar Liar (1997)             485\n",
       "Name: title, dtype: int64"
      ]
     },
     "execution_count": 6,
     "metadata": {},
     "output_type": "execute_result"
    }
   ],
   "source": [
    "# 가장 평점갯수가 많은 25개 작품\n",
    "# 결과) 오래된 영화 일수록 평점갯수가 많다\n",
    "lens.title.value_counts()[:5]"
   ]
  },
  {
   "cell_type": "code",
   "execution_count": 7,
   "metadata": {},
   "outputs": [
    {
     "data": {
      "text/html": [
       "<div>\n",
       "<style scoped>\n",
       "    .dataframe tbody tr th:only-of-type {\n",
       "        vertical-align: middle;\n",
       "    }\n",
       "\n",
       "    .dataframe tbody tr th {\n",
       "        vertical-align: top;\n",
       "    }\n",
       "\n",
       "    .dataframe thead tr th {\n",
       "        text-align: left;\n",
       "    }\n",
       "\n",
       "    .dataframe thead tr:last-of-type th {\n",
       "        text-align: right;\n",
       "    }\n",
       "</style>\n",
       "<table border=\"1\" class=\"dataframe\">\n",
       "  <thead>\n",
       "    <tr>\n",
       "      <th></th>\n",
       "      <th colspan=\"2\" halign=\"left\">rating</th>\n",
       "    </tr>\n",
       "    <tr>\n",
       "      <th></th>\n",
       "      <th>size</th>\n",
       "      <th>mean</th>\n",
       "    </tr>\n",
       "    <tr>\n",
       "      <th>title</th>\n",
       "      <th></th>\n",
       "      <th></th>\n",
       "    </tr>\n",
       "  </thead>\n",
       "  <tbody>\n",
       "    <tr>\n",
       "      <th>They Made Me a Criminal (1939)</th>\n",
       "      <td>1</td>\n",
       "      <td>5.0</td>\n",
       "    </tr>\n",
       "    <tr>\n",
       "      <th>Marlene Dietrich: Shadow and Light (1996)</th>\n",
       "      <td>1</td>\n",
       "      <td>5.0</td>\n",
       "    </tr>\n",
       "    <tr>\n",
       "      <th>Saint of Fort Washington, The (1993)</th>\n",
       "      <td>2</td>\n",
       "      <td>5.0</td>\n",
       "    </tr>\n",
       "  </tbody>\n",
       "</table>\n",
       "</div>"
      ],
      "text/plain": [
       "                                           rating     \n",
       "                                             size mean\n",
       "title                                                 \n",
       "They Made Me a Criminal (1939)                  1  5.0\n",
       "Marlene Dietrich: Shadow and Light (1996)       1  5.0\n",
       "Saint of Fort Washington, The (1993)            2  5.0"
      ]
     },
     "execution_count": 7,
     "metadata": {},
     "output_type": "execute_result"
    }
   ],
   "source": [
    "# 평점 수와 평균 평점을 집계한 다음 평균 평점 순으로 정렬\n",
    "# 결과) 평점 갯수가 너무 적은 영화들이 상위에 존재한다\n",
    "import numpy as np\n",
    "movie_stats = lens.groupby('title').agg({'rating': [np.size, np.mean]})\n",
    "movie_stats.sort_values(by=[('rating', 'mean')], ascending=False).head(3)"
   ]
  },
  {
   "cell_type": "code",
   "execution_count": 8,
   "metadata": {},
   "outputs": [
    {
     "data": {
      "text/html": [
       "<div>\n",
       "<style scoped>\n",
       "    .dataframe tbody tr th:only-of-type {\n",
       "        vertical-align: middle;\n",
       "    }\n",
       "\n",
       "    .dataframe tbody tr th {\n",
       "        vertical-align: top;\n",
       "    }\n",
       "\n",
       "    .dataframe thead tr th {\n",
       "        text-align: left;\n",
       "    }\n",
       "\n",
       "    .dataframe thead tr:last-of-type th {\n",
       "        text-align: right;\n",
       "    }\n",
       "</style>\n",
       "<table border=\"1\" class=\"dataframe\">\n",
       "  <thead>\n",
       "    <tr>\n",
       "      <th></th>\n",
       "      <th colspan=\"2\" halign=\"left\">rating</th>\n",
       "    </tr>\n",
       "    <tr>\n",
       "      <th></th>\n",
       "      <th>size</th>\n",
       "      <th>mean</th>\n",
       "    </tr>\n",
       "    <tr>\n",
       "      <th>title</th>\n",
       "      <th></th>\n",
       "      <th></th>\n",
       "    </tr>\n",
       "  </thead>\n",
       "  <tbody>\n",
       "    <tr>\n",
       "      <th>Close Shave, A (1995)</th>\n",
       "      <td>112</td>\n",
       "      <td>4.491071</td>\n",
       "    </tr>\n",
       "    <tr>\n",
       "      <th>Schindler's List (1993)</th>\n",
       "      <td>298</td>\n",
       "      <td>4.466443</td>\n",
       "    </tr>\n",
       "    <tr>\n",
       "      <th>Wrong Trousers, The (1993)</th>\n",
       "      <td>118</td>\n",
       "      <td>4.466102</td>\n",
       "    </tr>\n",
       "    <tr>\n",
       "      <th>Casablanca (1942)</th>\n",
       "      <td>243</td>\n",
       "      <td>4.456790</td>\n",
       "    </tr>\n",
       "    <tr>\n",
       "      <th>Shawshank Redemption, The (1994)</th>\n",
       "      <td>283</td>\n",
       "      <td>4.445230</td>\n",
       "    </tr>\n",
       "  </tbody>\n",
       "</table>\n",
       "</div>"
      ],
      "text/plain": [
       "                                 rating          \n",
       "                                   size      mean\n",
       "title                                            \n",
       "Close Shave, A (1995)               112  4.491071\n",
       "Schindler's List (1993)             298  4.466443\n",
       "Wrong Trousers, The (1993)          118  4.466102\n",
       "Casablanca (1942)                   243  4.456790\n",
       "Shawshank Redemption, The (1994)    283  4.445230"
      ]
     },
     "execution_count": 8,
     "metadata": {},
     "output_type": "execute_result"
    }
   ],
   "source": [
    "# 표본의 선별) 최소 평점 갯수가 100건 이상인 영화를 대상으로 상위작품 확인\n",
    "atleast_100 = movie_stats['rating']['size'] >=100\n",
    "movie_stats[atleast_100].sort_values(by=[('rating','mean')], ascending=False)[:5]"
   ]
  },
  {
   "cell_type": "code",
   "execution_count": 9,
   "metadata": {},
   "outputs": [
    {
     "data": {
      "text/plain": [
       "Text(0, 0.5, '(사용자별) 평가 횟수')"
      ]
     },
     "execution_count": 9,
     "metadata": {},
     "output_type": "execute_result"
    },
    {
     "data": {
      "image/png": "[encoded data removed]",
      "text/plain": [
       "<Figure size 432x288 with 1 Axes>"
      ]
     },
     "metadata": {
      "needs_background": "light"
     },
     "output_type": "display_data"
    }
   ],
   "source": [
    "%matplotlib inline\n",
    "# 시각적 분석결과 Long-tail 분포를 보여준다\n",
    "# Zip's Law (두번 중요단어는 1/2빈도, 세번 중요단어는 1/3빈도)\n",
    "from matplotlib import rc\n",
    "from matplotlib import pyplot as plt\n",
    "rc('font', family=['NanumGothic','Malgun Gothic'])\n",
    "\n",
    "# plt.style.use('ggplot') # user_id 별 평가횟수 히스토그램\n",
    "lens.groupby('user_id').size().sort_values(ascending=False).hist()\n",
    "plt.xlabel('(영화별) 평점 개수')\n",
    "plt.ylabel('(사용자별) 평가 횟수')"
   ]
  },
  {
   "cell_type": "code",
   "execution_count": 10,
   "metadata": {},
   "outputs": [
    {
     "data": {
      "text/html": [
       "<div>\n",
       "<style scoped>\n",
       "    .dataframe tbody tr th:only-of-type {\n",
       "        vertical-align: middle;\n",
       "    }\n",
       "\n",
       "    .dataframe tbody tr th {\n",
       "        vertical-align: top;\n",
       "    }\n",
       "\n",
       "    .dataframe thead th {\n",
       "        text-align: right;\n",
       "    }\n",
       "</style>\n",
       "<table border=\"1\" class=\"dataframe\">\n",
       "  <thead>\n",
       "    <tr style=\"text-align: right;\">\n",
       "      <th></th>\n",
       "      <th>size</th>\n",
       "      <th>mean</th>\n",
       "    </tr>\n",
       "  </thead>\n",
       "  <tbody>\n",
       "    <tr>\n",
       "      <th>count</th>\n",
       "      <td>943.000000</td>\n",
       "      <td>943.000000</td>\n",
       "    </tr>\n",
       "    <tr>\n",
       "      <th>mean</th>\n",
       "      <td>106.044539</td>\n",
       "      <td>3.588191</td>\n",
       "    </tr>\n",
       "    <tr>\n",
       "      <th>std</th>\n",
       "      <td>100.931743</td>\n",
       "      <td>0.445233</td>\n",
       "    </tr>\n",
       "    <tr>\n",
       "      <th>min</th>\n",
       "      <td>20.000000</td>\n",
       "      <td>1.491954</td>\n",
       "    </tr>\n",
       "    <tr>\n",
       "      <th>25%</th>\n",
       "      <td>33.000000</td>\n",
       "      <td>3.323054</td>\n",
       "    </tr>\n",
       "    <tr>\n",
       "      <th>50%</th>\n",
       "      <td>65.000000</td>\n",
       "      <td>3.620690</td>\n",
       "    </tr>\n",
       "    <tr>\n",
       "      <th>75%</th>\n",
       "      <td>148.000000</td>\n",
       "      <td>3.869565</td>\n",
       "    </tr>\n",
       "    <tr>\n",
       "      <th>max</th>\n",
       "      <td>737.000000</td>\n",
       "      <td>4.869565</td>\n",
       "    </tr>\n",
       "  </tbody>\n",
       "</table>\n",
       "</div>"
      ],
      "text/plain": [
       "             size        mean\n",
       "count  943.000000  943.000000\n",
       "mean   106.044539    3.588191\n",
       "std    100.931743    0.445233\n",
       "min     20.000000    1.491954\n",
       "25%     33.000000    3.323054\n",
       "50%     65.000000    3.620690\n",
       "75%    148.000000    3.869565\n",
       "max    737.000000    4.869565"
      ]
     },
     "execution_count": 10,
     "metadata": {},
     "output_type": "execute_result"
    }
   ],
   "source": [
    "# 사용자별 평가 횟수와 평점 평균\n",
    "user_stats = lens.groupby('user_id').agg({'rating': [np.size, np.mean]})\n",
    "user_stats['rating'].describe()"
   ]
  },
  {
   "cell_type": "markdown",
   "metadata": {},
   "source": [
    "## **2 추천 알고리즘과 파라미터**\n",
    "위에서 분석한 데이터를 기반으로 영화평점을 예측합니다\n",
    "- 인수분해 머신 알고리즘을 활용합니다\n",
    "- 행렬 인수분해는 **사용자** 와 **아이템** 만 다루지만, 인수분해머신은 **기타 다양한 특징** 으로도 모델을 만들 수 있습니다\n",
    "- 로지스틱회귀 모델과 달리, **행렬 인수분해처럼 희소한 행렬** 도 다룰 수 있습니다.\n",
    "- **특징간의 상호작용** 을 계산에 포함하여 다룹니다\n",
    "- **Surprise** 모듈의 내용은 [데이터사이언스](https://datascienceschool.net/view-notebook/fcd3550f11ac4537acec8d18136f2066/) 등을 참고합니다"
   ]
  },
  {
   "cell_type": "markdown",
   "metadata": {},
   "source": [
    "### **01 fastFM 라이브러리 (factorization machine 알고리즘)**\n",
    "인수분해 모듈로는 **libFM**이 가장 유명하지만 **C++** 로 구현되어서, 파이선 모듈인 [(**fastFM**)](http://ibayer.github.io/fastFM/tutorial.html#regression-with-als-solver) 을 사용합니다\n",
    "- **교대 최소제곱법 (ALS):** 예측이 빠르고 SGD에 비해 **파라미터가 적다** // 규제가 필수\n",
    "- **확률경사하강법 (SGD):** 예측이 빠르고 **대용량에** 적합 // 파라미터가 많고 규제가 필수\n",
    "- **마르코프 연쇄 몬테카를로 (MCMC):** 하이퍼 파라미터가 적어서 **자동규제** 가능 // 학습이 오래 걸린다"
   ]
  },
  {
   "cell_type": "code",
   "execution_count": 11,
   "metadata": {},
   "outputs": [
    {
     "name": "stdout",
     "output_type": "stream",
     "text": [
      "[[19.  0.  0.  0.  1.  1.  0.  0.  0.]\n",
      " [33.  0.  0.  1.  0.  0.  1.  0.  0.]\n",
      " [55.  0.  1.  0.  0.  0.  0.  1.  0.]\n",
      " [20.  1.  0.  0.  0.  0.  0.  0.  1.]]\n"
     ]
    }
   ],
   "source": [
    "from sklearn.feature_extraction import DictVectorizer\n",
    "train = [\n",
    "    {\"user\": \"1\", \"item\": \"5\", \"age\": 19},\n",
    "    {\"user\": \"2\", \"item\": \"43\", \"age\": 33},\n",
    "    {\"user\": \"3\", \"item\": \"20\", \"age\": 55},\n",
    "    {\"user\": \"4\", \"item\": \"10\", \"age\": 20},\n",
    "]\n",
    "v = DictVectorizer()       # 피쳐값은 v.feature_names_ 저장\n",
    "X = v.fit_transform(train) # age값, user BOW(4), item BOW(4) 매트릭스\n",
    "print(X.toarray())"
   ]
  },
  {
   "cell_type": "code",
   "execution_count": 12,
   "metadata": {},
   "outputs": [
    {
     "data": {
      "text/plain": [
       "array([3.60775939])"
      ]
     },
     "execution_count": 12,
     "metadata": {},
     "output_type": "execute_result"
    }
   ],
   "source": [
    "# 나이정보를 Integer로 변환 후 모델을 학습합니다\n",
    "# 실제해와 근사해의 오차가 최소로 되는 모델을 학습\n",
    "import numpy as np\n",
    "from fastFM import als\n",
    "y  = np.array([5.0, 1.0, 2.0, 4.0]) \n",
    "fm = als.FMRegression(n_iter=1000, init_stdev=0.1, rank=2, l2_reg_w=0.1, l2_reg_V=0.5)\n",
    "fm.fit(X, y)\n",
    "\n",
    "# 입력 행렬에는 없지만 모델에서 예측한 3.6 평점을 출력합니다\n",
    "fm.predict(v.transform({\"user\": \"5\", \"item\": \"10\", \"age\": 24}))"
   ]
  },
  {
   "cell_type": "markdown",
   "metadata": {},
   "source": [
    "### **02 MCMC 모델로 인수분해 학습**\n",
    "- MovieLens 데이터는 **Train (ua.base)** 과 **Test(ua.test)** 데이터를 분리하여 제공합니다\n",
    "- 읽은 자료들은 **사용자 ID, 영화 ID 필드를** 더미변수로 정리합니다\n",
    "- 학습을 위한 파라미터로 **alpha, lambda_w, mu_w** 값을 변화 합니다\n",
    "- **Q!)** 왜!! 파라미터는 (n_iter-1, 3+2*rank) 인가? **(특히 3, 2는???)**"
   ]
  },
  {
   "cell_type": "code",
   "execution_count": 13,
   "metadata": {},
   "outputs": [],
   "source": [
    "# Train(모델링/미세조정), Test(훈련모델의 검증) 불러오기\n",
    "def loadData(filename, path=\"data/ml-100k/\"):\n",
    "    data, y      = [], []\n",
    "    users, items = set(), set()\n",
    "    with open(path + filename) as f:\n",
    "        for line in f:\n",
    "            (user, movieid, rating, ts) = line.split('\\t')\n",
    "            data.append({ \"user_id\": str(user), \"movie_id\": str(movieid)})\n",
    "            y.append(float(rating))\n",
    "            users.add(user)\n",
    "            items.add(movieid)\n",
    "    return (data, np.array(y), users, items)\n",
    "\n",
    "(dev_data,  y_dev,  dev_users,  dev_items)  = loadData(\"ua.base\")\n",
    "(test_data, y_test, test_users, test_items) = loadData(\"ua.test\")"
   ]
  },
  {
   "cell_type": "code",
   "execution_count": 14,
   "metadata": {},
   "outputs": [],
   "source": [
    "# Train(dev_data) 을 9:1로 X_train(훈련데이터), X_dev_test(검증데이터) 분할\n",
    "from sklearn.model_selection import train_test_split\n",
    "v      = DictVectorizer()\n",
    "X_dev  = v.fit_transform(dev_data)\n",
    "X_test = v.transform(test_data)\n",
    "np.std(y_test)\n",
    "X_train, X_dev_test, y_train, y_dev_test = train_test_split(X_dev, y_dev, test_size=0.1, random_state=42)"
   ]
  },
  {
   "cell_type": "code",
   "execution_count": 15,
   "metadata": {},
   "outputs": [
    {
     "data": {
      "text/plain": [
       "FMRegression(copy_X=True, init_stdev=0.1, n_iter=0, random_state=123, rank=4)"
      ]
     },
     "execution_count": 15,
     "metadata": {},
     "output_type": "execute_result"
    }
   ],
   "source": [
    "# 모델 및 하이퍼파리미터 초기화\n",
    "from sklearn.metrics import mean_squared_error\n",
    "from fastFM import mcmc\n",
    "\n",
    "n_iter, step_size = 300, 1\n",
    "seed,   rank      = 123, 4\n",
    "fm = mcmc.FMRegression(n_iter=0, rank=rank, random_state=seed) # 초기화\n",
    "fm.fit_predict(X_train, y_train, X_dev_test)\n",
    "fm"
   ]
  },
  {
   "cell_type": "code",
   "execution_count": 16,
   "metadata": {},
   "outputs": [
    {
     "name": "stdout",
     "output_type": "stream",
     "text": [
      "학습결과 RMSE 측정값: 0.8960\n",
      "CPU times: user 7.63 s, sys: 4.5 ms, total: 7.63 s\n",
      "Wall time: 7.64 s\n"
     ]
    }
   ],
   "source": [
    "%%time\n",
    "# hyper_param 학습 파라미터와 RMSE 변화를 저장 \n",
    "rmse_test   = []\n",
    "hyper_param = np.zeros((n_iter-1, 3+2*rank), dtype=np.float64)\n",
    "\n",
    "for nr, i in enumerate(range(1, n_iter)):\n",
    "    fm.random_state    = i * seed\n",
    "    y_pred = fm.fit_predict(X_train, y_train, X_dev_test, n_more_iter=step_size)\n",
    "    rmse_test.append(np.sqrt(mean_squared_error(y_pred, y_dev_test)))\n",
    "    hyper_param[nr, :] = fm.hyper_param_\n",
    "\n",
    "values  = np.arange(1, n_iter)\n",
    "x       = values * step_size\n",
    "burn_in = 5\n",
    "x       = x[burn_in:]\n",
    "print(\"학습결과 RMSE 측정값: {:.4f}\".format(np.min(rmse_test)))"
   ]
  },
  {
   "cell_type": "code",
   "execution_count": 17,
   "metadata": {},
   "outputs": [
    {
     "data": {
      "text/plain": [
       "<matplotlib.legend.Legend at 0x7fc2426ebeb8>"
      ]
     },
     "execution_count": 17,
     "metadata": {},
     "output_type": "execute_result"
    },
    {
     "data": {
      "image/png": "[encoded data removed]",
      "text/plain": [
       "<Figure size 864x576 with 4 Axes>"
      ]
     },
     "metadata": {
      "needs_background": "light"
     },
     "output_type": "display_data"
    }
   ],
   "source": [
    "# MCMC 반복에 따른 파라미터 변화 \n",
    "# 결과분석 : 대략 100번 반복하면 수렴모델이 생성된다\n",
    "from matplotlib import pyplot as plt\n",
    "fig, axes = plt.subplots(nrows=2, ncols=2, sharex=True, figsize=(12, 8))\n",
    "axes[0,0].plot(x, rmse_test[burn_in:],     label='dev test rmse', color=\"r\")\n",
    "axes[0,1].plot(x, hyper_param[burn_in:,0], label='alpha',         color=\"b\")\n",
    "axes[1,0].plot(x, hyper_param[burn_in:,1], label='lambda_w',      color=\"g\")\n",
    "axes[1,1].plot(x, hyper_param[burn_in:,3], label='mu_w',          color=\"g\")\n",
    "axes[0,0].legend(); axes[0,1].legend(); axes[1,0].legend(); axes[1,1].legend()"
   ]
  },
  {
   "cell_type": "markdown",
   "metadata": {},
   "source": [
    "### **03 Rank 에 따른 RMSE 변화**\n",
    "- **rank가** RMSE값에 미치는 영향을 평가해 봅니다\n",
    "- 시뮬레이션 결과 **rank가 32를 넘으면** RMSE가 크게 줄어듬을 알 수 있습니다"
   ]
  },
  {
   "cell_type": "code",
   "execution_count": 18,
   "metadata": {},
   "outputs": [
    {
     "name": "stdout",
     "output_type": "stream",
     "text": [
      "rank:4\trmse:0.903\n",
      "rank:8\trmse:0.898\n",
      "rank:16\trmse:0.896\n",
      "rank:32\trmse:0.893\n",
      "rank:64\trmse:0.893\n",
      "시뮬레이션 결과 최소 rmse 값: 0.893\n",
      "CPU times: user 43.4 s, sys: 118 ms, total: 43.5 s\n",
      "Wall time: 43.3 s\n"
     ]
    },
    {
     "data": {
      "image/png": "[encoded data removed]",
      "text/plain": [
       "<Figure size 432x288 with 1 Axes>"
      ]
     },
     "metadata": {
      "needs_background": "light"
     },
     "output_type": "display_data"
    }
   ],
   "source": [
    "%%time\n",
    "n_iter, seed, rmse_test = 100, 333, []\n",
    "ranks = [4, 8, 16, 32, 64]\n",
    "\n",
    "for rank in ranks:\n",
    "    fm     = mcmc.FMRegression(n_iter=n_iter, rank=rank, random_state=seed)\n",
    "    y_pred = fm.fit_predict(X_train, y_train, X_dev_test)\n",
    "    rmse   = np.sqrt(mean_squared_error(y_pred, y_dev_test))\n",
    "    rmse_test.append(rmse)\n",
    "    print('rank:{}\\trmse:{:.3f}'.format(rank, rmse))\n",
    "\n",
    "plt.plot(ranks, rmse_test, label='dev test rmse', color=\"r\"); plt.legend()\n",
    "print(\"시뮬레이션 결과 최소 rmse 값: {:.3f}\".format(np.min(rmse_test)))"
   ]
  },
  {
   "cell_type": "code",
   "execution_count": 19,
   "metadata": {},
   "outputs": [
    {
     "name": "stdout",
     "output_type": "stream",
     "text": [
      "test 데이터 적용결과 rmse: 0.921497\n",
      "CPU times: user 32.1 s, sys: 220 ms, total: 32.3 s\n",
      "Wall time: 32.1 s\n"
     ]
    }
   ],
   "source": [
    "%%time\n",
    "# 위에서 학습한 모델을 Test 데이터로 평가합니다\n",
    "fm     = mcmc.FMRegression(n_iter=300, rank=32, random_state=seed)\n",
    "y_pred = fm.fit_predict(X_train, y_train, X_test)\n",
    "rmse_t = np.sqrt(mean_squared_error(y_pred, y_test))\n",
    "print(\"test 데이터 적용결과 rmse: {:4f}\".format(rmse_t))"
   ]
  },
  {
   "cell_type": "markdown",
   "metadata": {},
   "source": [
    "## **3 추천 알고리즘의 성능 높이기**\n",
    "### **01 데이터 표준화**\n",
    "- 훈련데이터에 비해, test 결과값이 낮은건 데이터 분포가 불균질 하기 때문으로 생각된다\n",
    "- 이를 극복하기 위해 raw_data 를 **표준화(standardization)** 한 후 모델링 합니다\n",
    "- 표준화 후 학습하는 경우 외부 설정에 따른 민감도가 높아지는걸 볼 수 있습니다"
   ]
  },
  {
   "cell_type": "code",
   "execution_count": 20,
   "metadata": {},
   "outputs": [
    {
     "data": {
      "text/plain": [
       "0.9203443782544464"
      ]
     },
     "execution_count": 20,
     "metadata": {},
     "output_type": "execute_result"
    }
   ],
   "source": [
    "from sklearn.preprocessing import StandardScaler\n",
    "scaler       = StandardScaler()\n",
    "y_train_norm = scaler.fit_transform(y_train.reshape(-1, 1)).ravel()\n",
    "fm = mcmc.FMRegression(n_iter=300, rank=32, random_state=seed)\n",
    "y_pred = fm.fit_predict(X_train, y_train_norm, X_test)\n",
    "np.sqrt(mean_squared_error(scaler.inverse_transform(y_pred), y_test))"
   ]
  },
  {
   "cell_type": "code",
   "execution_count": 21,
   "metadata": {},
   "outputs": [
    {
     "name": "stdout",
     "output_type": "stream",
     "text": [
      "iter: 20 rmse:0.961\n",
      "iter: 40 rmse:0.943\n",
      "iter: 60 rmse:0.932\n",
      "iter: 80 rmse:0.930\n",
      "iter:100 rmse:0.930\n",
      "iter:120 rmse:0.932\n",
      "iter:140 rmse:0.934\n",
      "iter:160 rmse:0.936\n",
      "iter:180 rmse:0.939\n",
      "min rmse: 0.930, argmin: 96\n"
     ]
    }
   ],
   "source": [
    "# 표준화 데이터를 활용하여 반복학습 진행하기\n",
    "n_iter, rank    = 200, 32\n",
    "step_size, seed = 1,  123\n",
    "fm = mcmc.FMRegression(n_iter=0, rank=rank, random_state=seed)\n",
    "# 모델 및 하이퍼 파라미터 초기화\n",
    "fm.fit_predict(X_train, y_train_norm, X_test)\n",
    "\n",
    "rmse_test, rmse_new = [], []\n",
    "hyper_param = np.zeros((n_iter -1, 3 + 2 * rank), dtype=np.float64)\n",
    "for nr, i in enumerate(range(1, n_iter)):\n",
    "    fm.random_state = i * seed\n",
    "    y_pred = fm.fit_predict(X_train, y_train_norm, X_test, n_more_iter=step_size)\n",
    "    rmse   = np.sqrt(mean_squared_error(scaler.inverse_transform(y_pred), y_test))\n",
    "    rmse_test.append(rmse)\n",
    "    hyper_param[nr, :] = fm.hyper_param_\n",
    "    if i % 20 == 0:\n",
    "        print('iter:{:3} rmse:{:.3f}'.format(i, rmse))\n",
    "print(\"min rmse: {:.3f}, argmin: {}\".format(np.min(rmse_test), x[np.argmin(rmse_test)]))"
   ]
  },
  {
   "cell_type": "code",
   "execution_count": 22,
   "metadata": {},
   "outputs": [
    {
     "data": {
      "text/plain": [
       "<matplotlib.legend.Legend at 0x7fc242742b38>"
      ]
     },
     "execution_count": 22,
     "metadata": {},
     "output_type": "execute_result"
    },
    {
     "data": {
      "image/png": "[encoded data removed]",
      "text/plain": [
       "<Figure size 1080x576 with 4 Axes>"
      ]
     },
     "metadata": {
      "needs_background": "light"
     },
     "output_type": "display_data"
    }
   ],
   "source": [
    "values  = np.arange(1, n_iter)\n",
    "burn_in = 5\n",
    "x = values * step_size\n",
    "x = x[burn_in:]\n",
    "\n",
    "fig, axes = plt.subplots(nrows=2, ncols=2, sharex=True, figsize=(15, 8))\n",
    "axes[0,0].plot(x, rmse_test[burn_in:], label='test rmse', color=\"r\")\n",
    "axes[0,1].plot(x, hyper_param[burn_in:,0], label='alpha', color=\"b\")\n",
    "axes[1,0].plot(x, hyper_param[burn_in:,1], label='lambda_w', color=\"g\")\n",
    "axes[1,1].plot(x, hyper_param[burn_in:,3], label='mu_w', color=\"g\")\n",
    "axes[0,0].legend(); axes[0,1].legend(); axes[1,0].legend(); axes[1,1].legend()"
   ]
  },
  {
   "cell_type": "markdown",
   "metadata": {},
   "source": [
    "### **02 상황인지 추천 모델 만들기**\n",
    "- 사용자와 아이템 이외의 정보를 활용하는 **context-aware recommandation** 모델링\n",
    "- 개봉연도, 사용자나이, 성별, 평가년도 등 **다양한 필드간의 조합을 활용하여**(인수분해) 모델을 구성합니다\n",
    "- 즉, **특징값을 다르게 조합해가며** 어떤 효과가 있는지 확인해 본다.\n",
    "- 실시간 모델링을 원하는 경우 **SGD** 학습을 사용합니다"
   ]
  },
  {
   "cell_type": "code",
   "execution_count": 30,
   "metadata": {},
   "outputs": [
    {
     "name": "stdout",
     "output_type": "stream",
     "text": [
      "rmse: 0.897 분석필드 목록 ['user_id', 'movie_id', 'release_year', 'age', 'sex', 'year', 'rating']\n",
      "rmse: 0.894 분석필드 목록 ['user_id', 'movie_id', 'age', 'sex', 'year', 'rating']\n",
      "rmse: 0.885 분석필드 목록 ['user_id', 'movie_id', 'sex', 'year', 'rating']\n",
      "rmse: 0.892 분석필드 목록 ['user_id', 'movie_id', 'age', 'sex', 'rating']\n",
      "rmse: 0.888 분석필드 목록 ['user_id', 'movie_id', 'rating']\n",
      "CPU times: user 2min 55s, sys: 476 ms, total: 2min 55s\n",
      "Wall time: 2min 55s\n"
     ]
    }
   ],
   "source": [
    "%%time\n",
    "lens['user_id']      = lens['user_id'].astype(str)\n",
    "lens['movie_id']     = lens['movie_id'].astype(str)\n",
    "lens['year']         = lens['date'].apply(str).str.split('-').str.get(0)\n",
    "lens['release_year'] = lens['release_date'].apply(str).str.split('-').str.get(2)\n",
    "\n",
    "rmse_test            = []\n",
    "n_iter, rank, seed   = 500, 8, 123\n",
    "candidate_columns    = [\n",
    "    ['user_id','movie_id', 'release_year', 'age', 'sex', 'year',  'rating'],\n",
    "    ['user_id','movie_id', 'age', 'sex', 'year',  'rating'],\n",
    "    ['user_id','movie_id', 'sex', 'year',  'rating'],\n",
    "    ['user_id','movie_id', 'age', 'sex', 'rating'],    \n",
    "    ['user_id','movie_id', 'rating'],\n",
    "]\n",
    "\n",
    "# filtered_lens = filtered_lens.astype('float') # 성별등 숫자만 있진 않아서 오류를 발생\n",
    "import warnings\n",
    "warnings.simplefilter('ignore')\n",
    "for column in candidate_columns:\n",
    "    filtered_lens  = lens[column].dropna() # 누락된 필드들은 제거합니다\n",
    "    v              = DictVectorizer()\n",
    "    X_more_feature = v.fit_transform(list(filtered_lens.drop('rating', axis=1).T.to_dict().values()))\n",
    "    y_more_feature = filtered_lens['rating'].tolist()\n",
    "    \n",
    "    # 훈련용/검증용을 9:1 로 분할 후, \"y_mf_train\" 평점 데이터를 표준화 합니다\n",
    "    X_mf_train, X_mf_test, y_mf_train, y_mf_test = train_test_split(\n",
    "        X_more_feature, y_more_feature, test_size=0.1, random_state=42)\n",
    "    scaler          = StandardScaler() # int64 데이터를 float64로 변환\n",
    "    y_mf_train_norm = scaler.fit_transform(np.array(y_mf_train).reshape(-1, 1)).ravel()\n",
    "    fm = mcmc.FMRegression(n_iter=n_iter, rank=rank, random_state=seed)\n",
    "\n",
    "    # 모델 및 하이퍼 파라미터 초기화\n",
    "    y_pred = fm.fit_predict(X_mf_train, y_mf_train_norm, X_mf_test)\n",
    "    rmse   = np.sqrt(mean_squared_error(scaler.inverse_transform(y_pred.reshape(-1, 1)), y_mf_test))\n",
    "    rmse_test.append(rmse)\n",
    "    print('rmse: {:.3f} 분석목록 {}'.format(rmse,column))"
   ]
  },
  {
   "cell_type": "code",
   "execution_count": 31,
   "metadata": {
    "scrolled": false
   },
   "outputs": [
    {
     "data": {
      "text/plain": [
       "(0.88, 0.9)"
      ]
     },
     "execution_count": 31,
     "metadata": {},
     "output_type": "execute_result"
    },
    {
     "data": {
      "image/png": "[encoded data removed]",
      "text/plain": [
       "<Figure size 432x288 with 1 Axes>"
      ]
     },
     "metadata": {
      "needs_background": "light"
     },
     "output_type": "display_data"
    }
   ],
   "source": [
    "# 분석결과의 시각화\n",
    "ind = np.arange(len(rmse_test))\n",
    "bar = plt.bar(ind, height=rmse_test)\n",
    "plt.xticks(ind, ('A조합', 'B조합', 'C조합', 'D조합', 'E조합'))\n",
    "plt.ylim((0.88, 0.90))"
   ]
  }
 ],
 "metadata": {
  "kernelspec": {
   "display_name": "Python 3",
   "language": "python",
   "name": "python3"
  },
  "language_info": {
   "codemirror_mode": {
    "name": "ipython",
    "version": 3
   },
   "file_extension": ".py",
   "mimetype": "text/x-python",
   "name": "python",
   "nbconvert_exporter": "python",
   "pygments_lexer": "ipython3",
   "version": "3.6.3"
  }
 },
 "nbformat": 4,
 "nbformat_minor": 2
}
