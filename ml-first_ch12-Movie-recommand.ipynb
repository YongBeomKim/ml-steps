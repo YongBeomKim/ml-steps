{
 "cells": [
  {
   "cell_type": "markdown",
   "metadata": {},
   "source": [
    "# **ch12 영화 추천시스템**\n",
    "- **처음 배우는 머신러닝** 12장 : [**(GitHub)**](https://github.com/your-first-ml-book/Examples)\n",
    "- 내용 기반의 영화추천 시스템\n",
    "- 협업필터링 기반의 영화추천 시스템"
   ]
  },
  {
   "cell_type": "markdown",
   "metadata": {},
   "source": [
    "## **1 데이터 입력 및 전처리**\n",
    "### **01 데이터 불러오기**\n",
    "Movie Lens [**(Web)**](https://grouplens.org/datasets/movielens/) 의 텍스트 데이터를 활용하여 분석을 진행합니다\n",
    "- 데이터 정보를 List 로 저장\n",
    "- 별점정보는 Numpy 다차원 배열로 저장\n",
    "- 사용자 별점과, 영화별점의 편차를 측정"
   ]
  },
  {
   "cell_type": "code",
   "execution_count": 15,
   "metadata": {},
   "outputs": [
    {
     "name": "stdout",
     "output_type": "stream",
     "text": [
      "1|24|M|technician|85711\n",
      "2|53|F|other|94043\n"
     ]
    }
   ],
   "source": [
    "! cat ./data/ml-100k/u.user | head -n 2"
   ]
  },
  {
   "cell_type": "code",
   "execution_count": 16,
   "metadata": {},
   "outputs": [
    {
     "name": "stdout",
     "output_type": "stream",
     "text": [
      "196\t242\t3\t881250949\n",
      "186\t302\t3\t891717742\n",
      "cat: 쓰기 오류: 파이프가 깨어짐\n"
     ]
    }
   ],
   "source": [
    "! cat ./data/ml-100k/u.data | head -n 2"
   ]
  },
  {
   "cell_type": "code",
   "execution_count": 17,
   "metadata": {},
   "outputs": [
    {
     "name": "stdout",
     "output_type": "stream",
     "text": [
      "1|Toy Story (1995)|01-Jan-1995||http://us.imdb.com/M/title-exact?Toy%20Story%20(1995)|0|0|0|1|1|1|0|0|0|0|0|0|0|0|0|0|0|0|0\n",
      "2|GoldenEye (1995)|01-Jan-1995||http://us.imdb.com/M/title-exact?GoldenEye%20(1995)|0|1|1|0|0|0|0|0|0|0|0|0|0|0|0|0|1|0|0\n",
      "cat: 쓰기 오류: 파이프가 깨어짐\n"
     ]
    }
   ],
   "source": [
    "! cat ./data/ml-100k/u.item | head -n 2"
   ]
  },
  {
   "cell_type": "code",
   "execution_count": 18,
   "metadata": {},
   "outputs": [
    {
     "name": "stdout",
     "output_type": "stream",
     "text": [
      "./data/ml-100k/u.user 데이터의 행수:   943\n",
      "./data/ml-100k/u.item 데이터의 행수: 1,682\n"
     ]
    }
   ],
   "source": [
    "# 작업에 사용할 파일목록들을 연결합니다\n",
    "fin_user   = \"./data/ml-100k/u.user\" # 사용자 개인정보\n",
    "fin_movie  = \"./data/ml-100k/u.item\" # 영화정보\n",
    "fin_rating = \"./data/ml-100k/u.data\" # 영화 별점정보\n",
    "\n",
    "# 데이터셋 불러오기 (delim:구분자)\n",
    "import codecs\n",
    "def read_data(fin, delim):\n",
    "    info_li = []\n",
    "    for line in codecs.open(fin, \"r\", encoding=\"latin-1\"):\n",
    "        line_items = line.strip().split(delim)\n",
    "        key        = int(line_items[0])\n",
    "        if (len(info_li)+1) != key:\n",
    "            print('errors at data_id'); exit(0)\n",
    "        info_li.append(line_items[1:])\n",
    "    print('{} 데이터의 행수: {:5,}'.format(fin, len(info_li)))\n",
    "    return(info_li)\n",
    "\n",
    "user_info_li  = read_data(fin_user, '|')\n",
    "movie_info_li = read_data(fin_movie,'|')"
   ]
  },
  {
   "cell_type": "code",
   "execution_count": 19,
   "metadata": {},
   "outputs": [
    {
     "name": "stdout",
     "output_type": "stream",
     "text": [
      "별점정보 영화 Matrix : (943, 1682)\n"
     ]
    }
   ],
   "source": [
    "# 영화 별점정보로 유틸리티 행렬 만들기\n",
    "import numpy as np\n",
    "def read_rating_data(fin):\n",
    "    Q = np.zeros((len(user_info_li), len(movie_info_li)), dtype=np.float64)\n",
    "    for line in open(fin):\n",
    "        user, movie, rating, date = line.strip().split(\"\\t\")\n",
    "        user_index  = int(user)  - 1\n",
    "        movie_index = int(movie) - 1\n",
    "        Q[user_index,movie_index] = float(rating)\n",
    "    return(Q)\n",
    "\n",
    "R = read_rating_data(fin_rating)\n",
    "print(\"별점정보 영화 Matrix :\", R.shape)"
   ]
  },
  {
   "cell_type": "markdown",
   "metadata": {},
   "source": [
    "### **02 데이터 전처리 후 통계적 분석**\n",
    "- 기초통계량 모듈을 사용하여 데이터 분포를 분석합니다\n",
    "- stats 모듈은 출력모양이 이쁘지 않아 사용자 정의함수로 출력합니다 [함수모음](https://www.programcreek.com/python/example/100345/scipy.stats.describe)"
   ]
  },
  {
   "cell_type": "code",
   "execution_count": 20,
   "metadata": {},
   "outputs": [
    {
     "name": "stdout",
     "output_type": "stream",
     "text": [
      "<사용자별 별점평균 기초통계분석> \n",
      "     statistic           value \n",
      " ------------------------------ \n",
      "          size       943.00000 \n",
      "           min         1.49195 \n",
      "           max         4.86957 \n",
      "          mean         3.58819 \n",
      "           std         0.44523 \n",
      "          skew        -0.44417 \n",
      "       kutosis         0.92868\n"
     ]
    }
   ],
   "source": [
    "# 개별 사용자의 별점평균 List\n",
    "from scipy import stats\n",
    "\n",
    "user_mean_li = []\n",
    "for i in range(0,R.shape[0]):\n",
    "    user_rating = [x for x in R[i] if x>0.0]\n",
    "    user_mean_li.append(stats.describe(user_rating).mean)\n",
    "\n",
    "# 사용자 별점평균의 기초통계량 분석\n",
    "def print_statistics(array, title=\"\"):\n",
    "    sta = stats.describe(array)\n",
    "    print(title, \"\\n%14s %15s\"%('statistic','value'), \"\\n\", 30*'-', \"\\n%14s %15.5f\"%('size',sta[0]),\\\n",
    "          \"\\n%14s %15.5f\"%('min',sta[1][0]), \"\\n%14s %15.5f\"%('max', sta[1][1]),\\\n",
    "          \"\\n%14s %15.5f\"%('mean',sta[2]), \"\\n%14s %15.5f\"%('std', np.sqrt(sta[3])),\\\n",
    "          \"\\n%14s %15.5f\"%('skew',sta[4]), \"\\n%14s %15.5f\"%('kutosis', sta[5])) \n",
    "\n",
    "print_statistics(user_mean_li, \"<사용자별 별점평균 기초통계분석>\")"
   ]
  },
  {
   "cell_type": "code",
   "execution_count": 21,
   "metadata": {},
   "outputs": [
    {
     "name": "stdout",
     "output_type": "stream",
     "text": [
      "<영화별 별점평균 기초통계분석> \n",
      "     statistic           value \n",
      " ------------------------------ \n",
      "          size      1682.00000 \n",
      "           min         1.00000 \n",
      "           max         5.00000 \n",
      "          mean         3.07604 \n",
      "           std         0.78166 \n",
      "          skew        -0.69913 \n",
      "       kutosis         0.44420\n"
     ]
    }
   ],
   "source": [
    "import warnings\n",
    "warnings.simplefilter(action='ignore', category=RuntimeWarning)\n",
    "\n",
    "# 영화의 평균 별점 기초 통계량 구하기\n",
    "movie_mean_li = []\n",
    "for i in range(0, R.shape[1]):\n",
    "    R_T = R.T\n",
    "    movie_rating = [x  for x in R_T[i] if x>0.0]\n",
    "    movie_mean_li.append(stats.describe(movie_rating).mean)\n",
    "\n",
    "warnings.simplefilter('default')\n",
    "print_statistics(movie_mean_li, \"<영화별 별점평균 기초통계분석>\")\n",
    "# stats.describe(movie_mean_li)"
   ]
  },
  {
   "cell_type": "markdown",
   "metadata": {},
   "source": [
    "## **2 내용기반 영화추천 시스템**\n",
    "영화 줄거리의 **Tf-idf 코싸인 유사도를** 분석하여 측정\n",
    "- **movie_info_li : 영화의 정보를** 저장 (한 영화당 **23가지 정보를** 포함)\n",
    "- **movie_plot_li : 영화의 줄거리만** 저장\n",
    "- 위 2개의 객체내 **정보수는 동일하므로** 필요에 따라 둘을 조합합니다\n",
    "- **1,682개의** 전체가 아닌 **100개의 영화정보만** 사용하여 tf-idf 변환 후 추천알고리즘에 적용합니다"
   ]
  },
  {
   "cell_type": "code",
   "execution_count": 22,
   "metadata": {},
   "outputs": [
    {
     "name": "stdout",
     "output_type": "stream",
     "text": [
      "info, plot 갯수일치: True\n",
      "movie_plot_li[0]:['Toy Story (1995)', '01-Jan-1995', '']\n",
      "movie_plot_li[0]:A little boy named Andy loves to be in his room, playing with his toys, especial\n"
     ]
    }
   ],
   "source": [
    "# 영화 플롯 데이터 호출 (예제 12-5, 12-6을 대체)\n",
    "movie_plot_li =[]\n",
    "warnings.simplefilter(action='ignore', category=ImportWarning)\n",
    "warnings.simplefilter(action='ignore', category=ResourceWarning)\n",
    "for line in open('./data/ml-100k-plot.txt'):\n",
    "    try:\n",
    "        ml_id, plot = line.strip().split('|',1)\n",
    "        movie_plot_li.append(plot)            \n",
    "    except ValueError:\n",
    "        movie_plot_li.append('')\n",
    "\n",
    "print(\"info, plot 갯수일치: {}\\nmovie_plot_li[0]:{}\\nmovie_plot_li[0]:{}\".format(\n",
    "    len(movie_plot_li) == len(movie_info_li),\n",
    "    movie_info_li[0][:3], movie_plot_li[0][:80]))"
   ]
  },
  {
   "cell_type": "code",
   "execution_count": 23,
   "metadata": {},
   "outputs": [
    {
     "name": "stdout",
     "output_type": "stream",
     "text": [
      "['27', 'able', 'accident', 'action', 'affair', 'agent', 'alive', 'america', 'american', 'amy']\n"
     ]
    }
   ],
   "source": [
    "warnings.simplefilter(action='ignore', category=PendingDeprecationWarning)\n",
    "\n",
    "# TF-IDF로 변환한 키워드의 리스트 (X의 0번 열 키워드는 feature_names[0])\n",
    "from sklearn.feature_extraction.text import TfidfVectorizer\n",
    "vectorizer    = TfidfVectorizer(min_df=3, stop_words='english')\n",
    "X             = vectorizer.fit_transform(movie_plot_li[:100])\n",
    "feature_names = vectorizer.get_feature_names()\n",
    "warnings.simplefilter('default')\n",
    "print(feature_names[:10])"
   ]
  },
  {
   "cell_type": "code",
   "execution_count": 24,
   "metadata": {
    "scrolled": false
   },
   "outputs": [
    {
     "name": "stderr",
     "output_type": "stream",
     "text": [
      "/home/markbaum/Python/python/lib/python3.6/site-packages/sklearn/feature_extraction/text.py:301: UserWarning: Your stop_words may be inconsistent with your preprocessing. Tokenizing the stop words generated tokens ['ha', 'le', 'u', 'wa'] not in stop_words.\n",
      "  'stop_words.' % sorted(inconsistent))\n"
     ]
    }
   ],
   "source": [
    "warnings.simplefilter(action='ignore', category=ImportWarning)\n",
    "warnings.simplefilter(action='ignore', category=ResourceWarning)\n",
    "warnings.simplefilter(action='ignore', category=DeprecationWarning)\n",
    "warnings.simplefilter(action='ignore', category=PendingDeprecationWarning)\n",
    "\n",
    "# 사용자 정의 Tokenizer 정의\n",
    "from nltk.stem import WordNetLemmatizer\n",
    "from nltk.tokenize import RegexpTokenizer\n",
    "\n",
    "class LemmaTokenizer(object):\n",
    "    def __init__(self):\n",
    "        self.wnl       = WordNetLemmatizer()\n",
    "        # self.tokenizer = RegexpTokenizer('(?u)\\w\\w+')\n",
    "        self.tokenizer = RegexpTokenizer('(?u)[A-z]+')\n",
    "    \n",
    "    # 클래스 객체를 호출시 마다 실행(Tf-idf Vector 키워드 호출)\n",
    "    def __call__(self, doc): \n",
    "        return([self.wnl.lemmatize(t) for t in self.tokenizer.tokenize(doc)])\n",
    "\n",
    "# 사이킷런에 위에서 정의한 토크나이저를 입력으로 넣습니다.\n",
    "vectorizer2   = TfidfVectorizer(min_df=3, tokenizer=LemmaTokenizer(), stop_words='english')\n",
    "X             = vectorizer2.fit_transform(movie_plot_li[:100])\n",
    "feature_names = vectorizer2.get_feature_names()"
   ]
  },
  {
   "cell_type": "code",
   "execution_count": 25,
   "metadata": {},
   "outputs": [
    {
     "name": "stdout",
     "output_type": "stream",
     "text": [
      "(100, 100)\n",
      "----- Toy Story (1995) : 관람객 추천영화 ------\n",
      "추천영화 1순위 : Santa Clause, The (1994)\n",
      "추천영화 2순위 : What's Eating Gilbert Grape (1993)\n",
      "추천영화 3순위 : Shawshank Redemption, The (1994)\n",
      "추천영화 4순위 : Searching for Bobby Fischer (1993)\n",
      "추천영화 5순위 : Seven (Se7en) (1995)\n",
      "추천영화 6순위 : Aladdin (1992)\n",
      "추천영화 7순위 : Batman Forever (1995)\n"
     ]
    }
   ],
   "source": [
    "# 비슷한 영화 추천하기\n",
    "from sklearn.metrics.pairwise import cosine_similarity\n",
    "movie_sim = cosine_similarity(X)\n",
    "print(movie_sim.shape)\n",
    "\n",
    "def similar_recommend_by_movie_id(movielens_id):\n",
    "    # enumerate 함수로 [(리스트 인덱스 0, 유사도 0), (리스트 인덱스 1, 유사도 1)...]의\n",
    "    # 리스트를 만듭니다. 그 후 각 튜플의 두 번째 항목, 즉 유사도를 이용하여 내림차순 정렬합니다.\n",
    "    # 이렇게 만든 리스트의 가장 앞 튜플의 첫 번째 항목이 영화 ID가 됩니다.\n",
    "    movie_index    = movielens_id - 1\n",
    "    similar_movies = sorted(list(enumerate(movie_sim[movie_index])),key=lambda x:x[1], reverse=True)\n",
    "    recommended    = 1\n",
    "    print(\"----- {} : 관람객 추천영화 ------\".format(movie_info_li[movie_index][0]))\n",
    "    for movie_info in similar_movies[1:8]:\n",
    "        movie_title = movie_info_li[movie_info[0]] # 자신은 추천서 제외\n",
    "        print('추천영화 %d순위 : %s'%(recommended, movie_title[0]))\n",
    "        recommended += 1\n",
    "\n",
    "similar_recommend_by_movie_id(1)"
   ]
  },
  {
   "cell_type": "code",
   "execution_count": 26,
   "metadata": {},
   "outputs": [
    {
     "name": "stdout",
     "output_type": "stream",
     "text": [
      "----- Braveheart (1995) : 관람객 추천영화 ------\n",
      "추천영화 1순위 : Angels and Insects (1995)\n",
      "추천영화 2순위 : Searching for Bobby Fischer (1993)\n",
      "추천영화 3순위 : Priest (1994)\n",
      "추천영화 4순위 : Three Colors: Blue (1993)\n",
      "추천영화 5순위 : Batman Forever (1995)\n",
      "추천영화 6순위 : Richard III (1995)\n",
      "추천영화 7순위 : Legends of the Fall (1994)\n"
     ]
    }
   ],
   "source": [
    "similar_recommend_by_movie_id(22)"
   ]
  },
  {
   "cell_type": "markdown",
   "metadata": {},
   "source": [
    "## **3 협업 필터링 기반의 영화 추천 시스템**\n",
    "### **01 특잇값 분해**\n",
    "**mean_squared_error**(정답행렬, 근사행렬)\n",
    "- 교대 최소제곱법\n",
    "- 가중치 교대 최소제곱법\n",
    "- 경사 하강법"
   ]
  },
  {
   "cell_type": "code",
   "execution_count": 13,
   "metadata": {},
   "outputs": [
    {
     "name": "stdout",
     "output_type": "stream",
     "text": [
      "  0 번 iteration 완료\n",
      " 10 번 iteration 완료\n",
      "MSE rate(작을수록 일치도 높음): 0.24661\n",
      "CPU times: user 2.37 s, sys: 1.46 s, total: 3.83 s\n",
      "Wall time: 1.01 s\n"
     ]
    }
   ],
   "source": [
    "%%time\n",
    "import numpy as np\n",
    "from sklearn.metrics import mean_squared_error\n",
    "\n",
    "# R(사용자 별점정보) 교대 최소제곱법 구현\n",
    "def compute_ALS(R, n_iter:int, lambda_:float, k):\n",
    "    '''임의의 사용자 행렬 X, 영화 행렬 Y를 생성한 뒤\n",
    "    교대 최소제곱법을 이용하여 유틸리티 행렬 R을 근사합니다.\n",
    "    :param R(ndarray)     : 유틸리티 행렬\n",
    "    :param n_iter(fint)   : X와 Y 반복횟수\n",
    "    :param lambda_(float) : 정규화 파라미터\n",
    "    '''\n",
    "    m, n         = R.shape\n",
    "    X, Y, errors = np.random.rand(m, k), np.random.rand(k, n), [] # 갱신마다 에러저장\n",
    "    for i in range(0, n_iter): # np.eye : n x n 크기 단위행렬\n",
    "        X = np.linalg.solve(np.dot(Y, Y.T) + lambda_ * np.eye(k), np.dot(Y, R.T)).T\n",
    "        Y = np.linalg.solve(np.dot(X.T, X) + lambda_ * np.eye(k), np.dot(X.T, R))        \n",
    "        errors.append(mean_squared_error(R, np.dot(X, Y)))\n",
    "        if i % 10 == 0: print('{:3} 번 iteration 완료'.format(i))\n",
    "    R_hat = np.dot(X, Y)\n",
    "    print('MSE rate(작을수록 일치도 높음): %.5f'%(mean_squared_error(R, np.dot(X, Y))))\n",
    "    return(R_hat, errors) # 생성한 배열과 오류값 출력합니다\n",
    "\n",
    "# 검사행렬, 반복횟수, 변화율, 행렬의 크기\n",
    "R_hat, errors = compute_ALS(R, 20, 0.1, 100)"
   ]
  },
  {
   "cell_type": "code",
   "execution_count": 14,
   "metadata": {
    "scrolled": true
   },
   "outputs": [
    {
     "name": "stdout",
     "output_type": "stream",
     "text": [
      "  0 번 iteration 완료\n",
      "  3 번 iteration 완료\n",
      "  6 번 iteration 완료\n",
      "  9 번 iteration 완료\n",
      " 12 번 iteration 완료\n",
      " 15 번 iteration 완료\n",
      " 18 번 iteration 완료\n",
      "MSE rate(작을수록 일치도 높음): 0.00064\n",
      "CPU times: user 33min 17s, sys: 8min 17s, total: 41min 34s\n",
      "Wall time: 11min 3s\n"
     ]
    }
   ],
   "source": [
    "%%time\n",
    "# 가중치 교대 최소제곱법 구현 (가중치 행렬을 mean_squared_error 함수의 인자로 사용) \n",
    "def compute_wALS(R,W, n_iter, lambda_, k):\n",
    "    m, n = R.shape\n",
    "    weighted_errors = []\n",
    "    X, Y = np.random.rand(m, k), np.random.rand(k, n)\n",
    "    \n",
    "    for ii in range(n_iter): # 가중치 행렬을 넣어서 계산 (사용자와 영화 가중치 행렬로 X와 Y를 갱신)\n",
    "        for u, Wu in enumerate(W):\n",
    "            X[u,:] = np.linalg.solve(np.dot(Y, np.dot(np.diag(Wu), Y.T)) +\\\n",
    "                                     lambda_ * np.eye(k), np.dot(Y, np.dot(np.diag(Wu),R[u,:].T))).T\n",
    "        for i, Wi in enumerate(W.T):\n",
    "            Y[:, i] = np.linalg.solve(np.dot(X.T, np.dot(np.diag(Wi), X)) +\\\n",
    "                                      lambda_ * np.eye(k), np.dot(X.T, np.dot(np.diag(Wi), R[:, i])))\n",
    "        \n",
    "        weighted_errors.append(mean_squared_error(R, np.dot(X, Y),sample_weight=W))\n",
    "        if ii % 3 == 0: print('{:3} 번 iteration 완료'.format(ii))\n",
    "    \n",
    "    R_hat = np.dot(X, Y)\n",
    "    print('MSE rate(작을수록 일치도 높음): %.5f'%(mean_squared_error(R, np.dot(X, Y), sample_weight=W)))\n",
    "    return(R_hat, errors)\n",
    "\n",
    "# R 테이블의 가중치 행렬을 생성후 계산을 한다 (별점 존재시1, 별점 없으면0)\n",
    "W                            = R > 0.0\n",
    "W[W == True], W[W == False]  = 1, 0\n",
    "W                            = W.astype(np.float64, copy=False)\n",
    "R_hat, errors                = compute_wALS(R, W, 20, 0.1, 100)"
   ]
  },
  {
   "cell_type": "code",
   "execution_count": 15,
   "metadata": {},
   "outputs": [
    {
     "name": "stdout",
     "output_type": "stream",
     "text": [
      "  0 번 iteration 완료\n",
      " 10 번 iteration 완료\n",
      "MSE rate(작을수록 일치도 높음): 25.64681\n",
      "CPU times: user 49.8 s, sys: 4.12 s, total: 53.9 s\n",
      "Wall time: 48 s\n"
     ]
    }
   ],
   "source": [
    "%%time\n",
    "# 경사하강법 구현\n",
    "def compute_GD(R,n_iter, lambda_, learning_rate, k):\n",
    "    m,n    = R.shape\n",
    "    errors = []\n",
    "    X, Y   = np.random.rand(m, k), np.random.rand(k, n)\n",
    "    for ii in range(n_iter):   # 입력받은 반복 횟수만큼 갱신을 반복\n",
    "        for u in range(m):\n",
    "            for i in range(n):\n",
    "                if R[u,i] > 0: # 각 사용자 및 상품의 행렬에 대해 하나씩 계산\n",
    "                    e_ui   = R[u,i]-np.dot(X[u, :], Y[:,i])\n",
    "                    X[u,:] = X[u,:] + learning_rate * (e_ui* Y[:,i] - lambda_ * X[u,:])\n",
    "                    Y[:,i] = Y[:,i] + learning_rate * (e_ui * X[u,:] - lambda_ * Y[:,i])                      \n",
    "        errors.append(mean_squared_error(R, np.dot(X, Y)))\n",
    "        if ii % 10 == 0: print('{:3} 번 iteration 완료'.format(ii))\n",
    "\n",
    "    R_hat = np.dot(X, Y)\n",
    "    print('MSE rate(작을수록 일치도 높음): %.5f'%(mean_squared_error(R, R_hat)))\n",
    "    return(R_hat, errors)\n",
    "\n",
    "R_hat, errors= compute_GD(R, 20, 1, 0.001, 100)"
   ]
  },
  {
   "cell_type": "code",
   "execution_count": 16,
   "metadata": {},
   "outputs": [
    {
     "name": "stdout",
     "output_type": "stream",
     "text": [
      "  0 번 iteration 완료\n",
      " 10 번 iteration 완료\n",
      " 20 번 iteration 완료\n",
      " 30 번 iteration 완료\n",
      "MSE rate(작을수록 일치도 높음): 17.69667\n"
     ]
    }
   ],
   "source": [
    "R_hat, errors= compute_GD(R, 40, 1, 0.001, 100)"
   ]
  },
  {
   "cell_type": "markdown",
   "metadata": {},
   "source": [
    "### **02 근사 모델의 생성 및 평가**\n",
    "- R 테이블의 일부분을 학습한 결과가 **OverFitting** 의 문제를 발생\n",
    "- 보다 일반화된 모델을 얻기 위해 **학습데이터와 평가데이터를** 나눠서 학습"
   ]
  },
  {
   "cell_type": "code",
   "execution_count": 17,
   "metadata": {},
   "outputs": [],
   "source": [
    "# 학습-평가 데이터 나누기\n",
    "def train_test_split(R, n_test):\n",
    "    train = R.copy()\n",
    "    test  = np.zeros(R.shape)\n",
    "    for user in range(R.shape[0]):\n",
    "        test_index = np.random.choice(R[user, :].nonzero()[0], size=n_test, replace=False)\n",
    "        train[user, test_index] = 0.\n",
    "        test[user, test_index]  = R[user, test_index]\n",
    "    return (train, test)\n",
    "\n",
    "# 예제 12-13\n",
    "def get_test_mse(true,pred):\n",
    "    # 0이 아닌 값만 이용해 에러를 계산(true:평가 데이터, pred:학습 데이터)\n",
    "    pred = pred[true.nonzero()].flatten()\n",
    "    true = true[true.nonzero()].flatten()\n",
    "    return mean_squared_error(true,pred)"
   ]
  },
  {
   "cell_type": "code",
   "execution_count": 25,
   "metadata": {},
   "outputs": [
    {
     "name": "stdout",
     "output_type": "stream",
     "text": [
      "  0 번 iteration 완료\n",
      " 10 번 iteration 완료\n",
      "MSE rate(작을수록 일치도 높음): 2.38620\n",
      "CPU times: user 3.16 s, sys: 2.07 s, total: 5.22 s\n",
      "Wall time: 1.37 s\n"
     ]
    }
   ],
   "source": [
    "%%time\n",
    "from sklearn.metrics import mean_squared_error\n",
    "import numpy as np\n",
    "\n",
    "def compute_ALS(R, test, n_iter, lambda_, k):\n",
    "    '''임의의 사용자 요인 행렬 X와 임의의 영화 요인 행렬 Y를 생성하고 교대 최소제곱법을 이용하여\n",
    "    유틸리티 행렬 R을 근사합니다. 그후 test행렬을 이용하여 평가합니다.\n",
    "    R(ndarray) : 유틸리티 행렬\n",
    "    test: 평가행렬\n",
    "    lambda_(float) : 정규화 파라미터\n",
    "    n_iter(fint) : X와 Y의 갱신 횟수\n",
    "    '''\n",
    "    m,n  = R.shape\n",
    "    X, Y, errors = np.random.rand(m, k), np.random.rand(k, n), []\n",
    "    for i in range(0, n_iter): # 갱신 시마다 계산한 에러를 저장\n",
    "        X = np.linalg.solve(np.dot(Y, Y.T) + lambda_ * np.eye(k),np.dot(Y, R.T)).T\n",
    "        Y = np.linalg.solve(np.dot(X.T, X) + lambda_ * np.eye(k), np.dot(X.T, R))\n",
    "        errors.append(get_test_mse(test,np.dot(X, Y)))\n",
    "        if i % 10 == 0: print('{:3} 번 iteration 완료'.format(i))\n",
    "    R_hat = np.dot(X, Y)\n",
    "    print('MSE rate(작을수록 일치도 높음): %.5f'%(get_test_mse(test, R_hat)))\n",
    "    return(R_hat, errors)\n",
    "\n",
    "\n",
    "train,test          = train_test_split(R, 10)\n",
    "# 생성한 근사 Matrix와 train 데이터 Set 일치도\n",
    "R_hat, train_errors = compute_ALS(train, train, 20, 0.1,100)"
   ]
  },
  {
   "cell_type": "code",
   "execution_count": 26,
   "metadata": {},
   "outputs": [
    {
     "name": "stdout",
     "output_type": "stream",
     "text": [
      "  0 번 iteration 완료\n",
      " 10 번 iteration 완료\n",
      "MSE rate(작을수록 일치도 높음): 10.06186\n"
     ]
    }
   ],
   "source": [
    "# 생성한 근사 Matrix와 test 데이터 Set 일치도\n",
    "R_hat, test_errors = compute_ALS(train, test,20, 0.1,100)"
   ]
  },
  {
   "cell_type": "code",
   "execution_count": 27,
   "metadata": {},
   "outputs": [
    {
     "data": {
      "image/png": "[encoded data removed]",
      "text/plain": [
       "<Figure size 432x288 with 1 Axes>"
      ]
     },
     "metadata": {
      "needs_background": "light"
     },
     "output_type": "display_data"
    }
   ],
   "source": [
    "# 반복에 따른 학습-평가 에러변화 출력(평가에러: 점선, 학습에러: 실선)\n",
    "# 1회 학습후 test 오류가 늘어나는 모습으로 OverFit을 의심가능\n",
    "from matplotlib import pyplot as plt\n",
    "x = range(0,20)\n",
    "plt.xlim(0,20); plt.xlabel('iteration'); plt.xticks(x, range(0,20));\n",
    "plt.ylim(0,15); plt.ylabel('MSE')\n",
    "plt.plot(x,train_errors,      label='train_error')\n",
    "plt.plot(x,test_errors, '--', label='test_error')\n",
    "plt.legend()#handles=[train_plot, test_plot])\n",
    "plt.show()"
   ]
  },
  {
   "cell_type": "code",
   "execution_count": 21,
   "metadata": {},
   "outputs": [
    {
     "name": "stdout",
     "output_type": "stream",
     "text": [
      "  0 번 iteration 완료\n",
      " 10 번 iteration 완료\n",
      "MSE rate(작을수록 일치도 높음): 5.46744\n",
      "  0 번 iteration 완료\n",
      " 10 번 iteration 완료\n",
      "MSE rate(작을수록 일치도 높음): 9.07524\n",
      "CPU times: user 10.3 s, sys: 7.35 s, total: 17.7 s\n",
      "Wall time: 6.17 s\n"
     ]
    }
   ],
   "source": [
    "%%time\n",
    "# 정규화 파라미터를 50으로 학습한 경우, 일반화 성능 개선여부\n",
    "R_hat, train_errors = compute_ALS(train, train,20, 50,100)\n",
    "R_hat, test_errors  = compute_ALS(train, test, 20, 50,100)"
   ]
  },
  {
   "cell_type": "code",
   "execution_count": 22,
   "metadata": {},
   "outputs": [
    {
     "data": {
      "image/png": "[encoded data removed]",
      "text/plain": [
       "<Figure size 432x288 with 1 Axes>"
      ]
     },
     "metadata": {
      "needs_background": "light"
     },
     "output_type": "display_data"
    }
   ],
   "source": [
    "# 반복에 따른 학습-평가 에러변화 출력(평가에러: 점선, 학습에러: 실선)\n",
    "# 훈연을 반복할수록 test 의 MSE도 감소합니다\n",
    "x = range(0,20)\n",
    "plt.xlim(0,20); plt.xlabel('iteration'); plt.xticks(x, range(0,20));\n",
    "plt.ylim(0,15); plt.ylabel('MSE')\n",
    "plt.plot(x,train_errors,      label='train_error')\n",
    "plt.plot(x,test_errors, '--', label='test_error')\n",
    "plt.legend() #handles=[train_plot, test_plot]); \n",
    "plt.show()"
   ]
  },
  {
   "cell_type": "markdown",
   "metadata": {},
   "source": [
    "### **03 위에서 생성한 근사 모델을 활용한 추천**\n",
    "- 사용자 ID를 입력받아서 **근사모델**을 활용한 **추천영화**를 출력합니다\n",
    "- 기존의 별점과 동일한 환경을 위해 **0~5 사이의 값으로 정규화** 합니다"
   ]
  },
  {
   "cell_type": "code",
   "execution_count": 23,
   "metadata": {},
   "outputs": [
    {
     "name": "stdout",
     "output_type": "stream",
     "text": [
      "----- 24 M technician 관람객 추천영화 ------\n",
      "1 순위 추천영화: 평점(3.998) Brazil (1985)\n",
      "2 순위 추천영화: 평점(3.944) Wrong Trousers, The (1993)\n",
      "3 순위 추천영화: 평점(3.913) So I Married an Axe Murderer (1993)\n",
      "4 순위 추천영화: 평점(3.702) Priest (1994)\n",
      "5 순위 추천영화: 평점(3.627) GoodFellas (1990)\n",
      "CPU times: user 7.24 ms, sys: 15.8 ms, total: 23 ms\n",
      "Wall time: 7.63 ms\n"
     ]
    }
   ],
   "source": [
    "%%time\n",
    "# 최솟값 0: 전체에 최소값을 뺀다 (X, Y를 0~5의 수로 초기화)\n",
    "# 큰 값 5: 최대 예측값(np.max(R_hat))으로 나눈 값을 곱합니다.\n",
    "R_hat -= np.min(R_hat)\n",
    "R_hat *= float(5) / np.max(R_hat)\n",
    "\n",
    "# 사용자의 ID 입력, 보지 않은 영화 중 추천합니다.\n",
    "def recommend_by_user(user):\n",
    "    user_index       = user - 1\n",
    "    user_seen_movies = sorted(list(enumerate(R_hat[user_index])),key=lambda x:x[1], reverse=True)\n",
    "    recommended      = 1\n",
    "    print(\"----- {} 관람객 추천영화 ------\".format(\" \".join(user_info_li[0][:-1])))\n",
    "    for movie_info in user_seen_movies:\n",
    "        if W[user][movie_info[0]] == 0:\n",
    "            movie_title = movie_info_li[int(movie_info[0]+1)]\n",
    "            movie_score = movie_info[1]\n",
    "            print(\"%d 순위 추천영화: 평점(%.3f) %s\"%(recommended, movie_score, movie_title[0]))\n",
    "            recommended += 1\n",
    "        if recommended == 6: break\n",
    "\n",
    "recommend_by_user(1)"
   ]
  }
 ],
 "metadata": {
  "kernelspec": {
   "display_name": "Python 3",
   "language": "python",
   "name": "python3"
  },
  "language_info": {
   "codemirror_mode": {
    "name": "ipython",
    "version": 3
   },
   "file_extension": ".py",
   "mimetype": "text/x-python",
   "name": "python",
   "nbconvert_exporter": "python",
   "pygments_lexer": "ipython3",
   "version": "3.6.3"
  }
 },
 "nbformat": 4,
 "nbformat_minor": 2
}
